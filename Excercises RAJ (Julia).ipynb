{
 "cells": [
  {
   "cell_type": "markdown",
   "id": "77630b99",
   "metadata": {},
   "source": [
    "# Exercise 3 (JULIA)\n",
    "\n",
    "Create a 2x4 two dimensional matrix with random floats in it and in the next step determine the biggest element."
   ]
  },
  {
   "cell_type": "markdown",
   "id": "fa94cf31",
   "metadata": {},
   "source": [
    "First, I generate the Matrix:"
   ]
  },
  {
   "cell_type": "code",
   "execution_count": 160,
   "id": "6aed46dc",
   "metadata": {
    "scrolled": false
   },
   "outputs": [
    {
     "data": {
      "text/plain": [
       "2×4 Matrix{Float64}:\n",
       " 0.0187216  0.407618  0.792971  0.0207563\n",
       " 0.404231   0.121066  0.580978  0.00836032"
      ]
     },
     "metadata": {},
     "output_type": "display_data"
    }
   ],
   "source": [
    "theMatrix = rand(Float64, (2, 4))\n",
    "display(theMatrix)\n"
   ]
  },
  {
   "cell_type": "markdown",
   "id": "f1bcba92",
   "metadata": {},
   "source": [
    "Then, I find the position of the biggest element:"
   ]
  },
  {
   "cell_type": "code",
   "execution_count": 165,
   "id": "8e1dfd82",
   "metadata": {},
   "outputs": [
    {
     "data": {
      "text/plain": [
       "CartesianIndex(1, 3)"
      ]
     },
     "execution_count": 165,
     "metadata": {},
     "output_type": "execute_result"
    }
   ],
   "source": [
    "positionOfMax = argmax(theMatrix)"
   ]
  },
  {
   "cell_type": "markdown",
   "id": "c3b1f7d7",
   "metadata": {},
   "source": [
    "Finally, I get the element at the position that was found"
   ]
  },
  {
   "cell_type": "code",
   "execution_count": 167,
   "id": "219eabea",
   "metadata": {
    "scrolled": true
   },
   "outputs": [
    {
     "data": {
      "text/plain": [
       "0.7929705018498531"
      ]
     },
     "execution_count": 167,
     "metadata": {},
     "output_type": "execute_result"
    }
   ],
   "source": [
    "biggestElt = theMatrix[positionOfMax]"
   ]
  },
  {
   "cell_type": "markdown",
   "id": "382473da",
   "metadata": {},
   "source": [
    "\n",
    "\n",
    "# Exercise 4 (JULIA)"
   ]
  },
  {
   "cell_type": "markdown",
   "id": "697d729d",
   "metadata": {},
   "source": [
    "## 1. Create two matrices of the same layout and test if addition and subtraction of the matrix works as expected: C = A + B"
   ]
  },
  {
   "cell_type": "markdown",
   "id": "0bab0a00",
   "metadata": {},
   "source": [
    "First, I create 2 Matrices"
   ]
  },
  {
   "cell_type": "code",
   "execution_count": 169,
   "id": "c715bf77",
   "metadata": {
    "scrolled": true
   },
   "outputs": [
    {
     "name": "stdout",
     "output_type": "stream",
     "text": [
      "Matrix 1:\n"
     ]
    },
    {
     "data": {
      "text/plain": [
       "4×4 Matrix{Int64}:\n",
       " 12   4   9  74\n",
       " 65  45  38   3\n",
       " 76  17  39   5\n",
       " 65   9  34  65"
      ]
     },
     "metadata": {},
     "output_type": "display_data"
    },
    {
     "name": "stdout",
     "output_type": "stream",
     "text": [
      "Matrix 2:\n"
     ]
    },
    {
     "data": {
      "text/plain": [
       "4×4 Matrix{Int64}:\n",
       "  9  54  23  18\n",
       "  3  38  45  28\n",
       " 92   6  37  21\n",
       " 63  23  94  12"
      ]
     },
     "metadata": {},
     "output_type": "display_data"
    }
   ],
   "source": [
    "matrix1 = [12 4 9 74; 65 45 38 3; 76 17 39 5; 65 9 34 65]\n",
    "println(\"Matrix 1:\")\n",
    "display(matrix1)\n",
    "matrix2 = [9 54 23 18; 3 38 45 28; 92 6 37 21; 63 23 94 12]\n",
    "println(\"Matrix 2:\")\n",
    "display(matrix2)\n",
    "\n"
   ]
  },
  {
   "cell_type": "markdown",
   "id": "ac638d92",
   "metadata": {},
   "source": [
    "### addition"
   ]
  },
  {
   "cell_type": "code",
   "execution_count": 170,
   "id": "7c990707",
   "metadata": {},
   "outputs": [
    {
     "name": "stdout",
     "output_type": "stream",
     "text": [
      "additionMatrix: \n"
     ]
    },
    {
     "data": {
      "text/plain": [
       "4×4 Matrix{Int64}:\n",
       "  21  58   32  92\n",
       "  68  83   83  31\n",
       " 168  23   76  26\n",
       " 128  32  128  77"
      ]
     },
     "metadata": {},
     "output_type": "display_data"
    }
   ],
   "source": [
    "additionMatrix = matrix1 + matrix2\n",
    "println(\"additionMatrix: \")\n",
    "display(additionMatrix)"
   ]
  },
  {
   "cell_type": "markdown",
   "id": "ba017928",
   "metadata": {},
   "source": [
    "### Substraction"
   ]
  },
  {
   "cell_type": "code",
   "execution_count": 171,
   "id": "132add36",
   "metadata": {},
   "outputs": [
    {
     "name": "stdout",
     "output_type": "stream",
     "text": [
      "substractionMatrix: \n"
     ]
    },
    {
     "data": {
      "text/plain": [
       "4×4 Matrix{Int64}:\n",
       "   3  -50  -14   56\n",
       "  62    7   -7  -25\n",
       " -16   11    2  -16\n",
       "   2  -14  -60   53"
      ]
     },
     "metadata": {},
     "output_type": "display_data"
    }
   ],
   "source": [
    "substractionMatrix = matrix1 - matrix2\n",
    "println(\"substractionMatrix: \")\n",
    "display(substractionMatrix)"
   ]
  },
  {
   "cell_type": "markdown",
   "id": "99b3f066",
   "metadata": {},
   "source": [
    "=> The addition and the substraction work as expected => addition or substraction of the elements"
   ]
  },
  {
   "cell_type": "markdown",
   "id": "cb1f229e",
   "metadata": {},
   "source": [
    "## 2. Now compare matrix multiplication either this way A * B and this way A .* B. Whats the difference?!"
   ]
  },
  {
   "cell_type": "code",
   "execution_count": 207,
   "id": "291b8be8",
   "metadata": {
    "scrolled": true
   },
   "outputs": [
    {
     "data": {
      "text/plain": [
       "4×4 Matrix{Int64}:\n",
       " 5610  2556  7745  1405\n",
       " 4405  5517  5208  3264\n",
       " 4638  5099  4426  2723\n",
       " 7835  5551  9268  2916"
      ]
     },
     "metadata": {},
     "output_type": "display_data"
    },
    {
     "data": {
      "text/plain": [
       "4×4 Matrix{Int64}:\n",
       "  108   216   207  1332\n",
       "  195  1710  1710    84\n",
       " 6992   102  1443   105\n",
       " 4095   207  3196   780"
      ]
     },
     "metadata": {},
     "output_type": "display_data"
    }
   ],
   "source": [
    "multiply1 = matrix1*matrix2\n",
    "multiply2 = matrix1.*matrix2\n",
    "display(multiply1)\n",
    "display(multiply2)\n"
   ]
  },
  {
   "cell_type": "markdown",
   "id": "9bbc01af",
   "metadata": {},
   "source": [
    "=> Here we see that the matrices multiplication is not the same as the multiplication of the elements of two matrices."
   ]
  },
  {
   "cell_type": "markdown",
   "id": "35d1a17b",
   "metadata": {},
   "source": [
    "## 3. What about matrix division with \"/\" or \"\\\"?!"
   ]
  },
  {
   "cell_type": "code",
   "execution_count": 218,
   "id": "b6595d2d",
   "metadata": {
    "scrolled": true
   },
   "outputs": [
    {
     "data": {
      "text/plain": [
       "4×4 Matrix{Float64}:\n",
       " -1.85676    3.54659   1.34491   -1.67716\n",
       "  1.43526   -1.22345   0.230804   0.547921\n",
       "  0.616514  -0.773419  0.488241   0.442118\n",
       " -1.27726    2.48532   1.51066   -1.11018"
      ]
     },
     "metadata": {},
     "output_type": "display_data"
    },
    {
     "data": {
      "text/plain": [
       "4×4 Matrix{Float64}:\n",
       " -17.2328   -13.1552     35.5676   -10.7652\n",
       "  -8.62887   -3.07468    11.8263    -3.20326\n",
       "  39.8905    27.165     -73.8882    22.9944\n",
       "  -1.46899   -0.274653    2.89023   -0.634517"
      ]
     },
     "metadata": {},
     "output_type": "display_data"
    }
   ],
   "source": [
    "divide1 = matrix1/matrix2\n",
    "divide2 = matrix1\\matrix2\n",
    "display(divide1)\n",
    "display(divide2)"
   ]
  },
  {
   "cell_type": "markdown",
   "id": "4f2e4706",
   "metadata": {},
   "source": [
    "=> The two operations are different because:\n",
    "matrix1/matrix2 = matrix1* inv(matrix2)\n",
    "and \n",
    "matrix1\\matrix2 = inv(matrix1)*matrix2"
   ]
  },
  {
   "cell_type": "code",
   "execution_count": 216,
   "id": "de97ea7a",
   "metadata": {
    "scrolled": true
   },
   "outputs": [
    {
     "data": {
      "text/plain": [
       "4×4 Matrix{Float64}:\n",
       " -1.85676    3.54659   1.34491   -1.67716\n",
       "  1.43526   -1.22345   0.230804   0.547921\n",
       "  0.616514  -0.773419  0.488241   0.442118\n",
       " -1.27726    2.48532   1.51066   -1.11018"
      ]
     },
     "metadata": {},
     "output_type": "display_data"
    },
    {
     "data": {
      "text/plain": [
       "4×4 Matrix{Float64}:\n",
       " -17.2328   -13.1552     35.5676   -10.7652\n",
       "  -8.62887   -3.07468    11.8263    -3.20326\n",
       "  39.8905    27.165     -73.8882    22.9944\n",
       "  -1.46899   -0.274653    2.89023   -0.634517"
      ]
     },
     "metadata": {},
     "output_type": "display_data"
    }
   ],
   "source": [
    "display(matrix1* inv(matrix2))\n",
    "display(inv(matrix1)*matrix2)"
   ]
  },
  {
   "cell_type": "markdown",
   "id": "99f92f33",
   "metadata": {},
   "source": [
    "## 4. Create a 3x3 integer matrix A with useful numbers. Now try A+1, A-1, A*2, A/2."
   ]
  },
  {
   "cell_type": "code",
   "execution_count": 222,
   "id": "086c2667",
   "metadata": {
    "scrolled": false
   },
   "outputs": [
    {
     "data": {
      "text/plain": [
       "3×4 Matrix{Int64}:\n",
       " 5  4  9  7\n",
       " 6  2  8  3\n",
       " 4  3  7  5"
      ]
     },
     "metadata": {},
     "output_type": "display_data"
    }
   ],
   "source": [
    "#3x3 matrix\n",
    "A = [5 4 9 7; 6 2 8 3; 4 3 7 5]\n",
    "display(A)"
   ]
  },
  {
   "cell_type": "markdown",
   "id": "88901351",
   "metadata": {},
   "source": [
    "the oparations A+1 and A-1 are not possible and generate errors. To add and integer to or substract an integer from a matrix, one should write A.+1 or A.-1"
   ]
  },
  {
   "cell_type": "code",
   "execution_count": 232,
   "id": "e750e0c2",
   "metadata": {
    "scrolled": true
   },
   "outputs": [
    {
     "data": {
      "text/plain": [
       "3×4 Matrix{Int64}:\n",
       " 6  5  10  8\n",
       " 7  3   9  4\n",
       " 5  4   8  6"
      ]
     },
     "metadata": {},
     "output_type": "display_data"
    },
    {
     "data": {
      "text/plain": [
       "3×4 Matrix{Int64}:\n",
       " 4  3  8  6\n",
       " 5  1  7  2\n",
       " 3  2  6  4"
      ]
     },
     "metadata": {},
     "output_type": "display_data"
    }
   ],
   "source": [
    "A_plus_1 = A .+ 1\n",
    "display(A_plus_1)\n",
    "A_minus_1 = A .- 1\n",
    "display(A_minus_1)"
   ]
  },
  {
   "cell_type": "markdown",
   "id": "6bd492a1",
   "metadata": {},
   "source": [
    "The multiplication and the division work without any problem."
   ]
  },
  {
   "cell_type": "code",
   "execution_count": 233,
   "id": "84ed3bee",
   "metadata": {},
   "outputs": [
    {
     "data": {
      "text/plain": [
       "3×4 Matrix{Int64}:\n",
       " 10  8  18  14\n",
       " 12  4  16   6\n",
       "  8  6  14  10"
      ]
     },
     "metadata": {},
     "output_type": "display_data"
    },
    {
     "data": {
      "text/plain": [
       "3×4 Matrix{Float64}:\n",
       " 2.5  2.0  4.5  3.5\n",
       " 3.0  1.0  4.0  1.5\n",
       " 2.0  1.5  3.5  2.5"
      ]
     },
     "metadata": {},
     "output_type": "display_data"
    }
   ],
   "source": [
    "A_mult_2 = A * 2\n",
    "display(A_mult_2)\n",
    "A_div_2 = A / 2\n",
    "display(A_div_2)"
   ]
  },
  {
   "cell_type": "markdown",
   "id": "e4805c0d",
   "metadata": {},
   "source": [
    "## 5. Now multiply a 3x4 matrix with a suitable (4)vector."
   ]
  },
  {
   "cell_type": "code",
   "execution_count": 247,
   "id": "4219679d",
   "metadata": {},
   "outputs": [
    {
     "data": {
      "text/plain": [
       "3×4 Matrix{Int64}:\n",
       " 5  4  9  7\n",
       " 6  2  8  3\n",
       " 4  3  7  5"
      ]
     },
     "metadata": {},
     "output_type": "display_data"
    },
    {
     "data": {
      "text/plain": [
       "4-element Vector{Int64}:\n",
       " 2\n",
       " 4\n",
       " 7\n",
       " 3"
      ]
     },
     "metadata": {},
     "output_type": "display_data"
    },
    {
     "data": {
      "text/plain": [
       "3-element Vector{Int64}:\n",
       " 110\n",
       "  85\n",
       "  84"
      ]
     },
     "metadata": {},
     "output_type": "display_data"
    }
   ],
   "source": [
    "matrixM = [5 4 9 7; 6 2 8 3; 4 3 7 5]\n",
    "vectorV = [2; 4; 7; 3]\n",
    "multResult = matrixM*vectorV\n",
    "display(matrixM)\n",
    "display(vectorV)\n",
    "display(multResult)"
   ]
  }
 ],
 "metadata": {
  "kernelspec": {
   "display_name": "Julia 1.7.3",
   "language": "julia",
   "name": "julia-1.7"
  },
  "language_info": {
   "file_extension": ".jl",
   "mimetype": "application/julia",
   "name": "julia",
   "version": "1.7.3"
  }
 },
 "nbformat": 4,
 "nbformat_minor": 5
}
